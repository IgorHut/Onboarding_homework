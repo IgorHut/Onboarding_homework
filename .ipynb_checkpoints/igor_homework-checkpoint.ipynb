{
 "cells": [
  {
   "cell_type": "markdown",
   "metadata": {},
   "source": [
    "# File Formats Playground\n",
    "<br\\>"
   ]
  },
  {
   "cell_type": "markdown",
   "metadata": {},
   "source": [
    "### Find the latest version of this notebook at https://github.com/IgorHut/Onboarding_homework"
   ]
  },
  {
   "cell_type": "markdown",
   "metadata": {},
   "source": [
    "In the folowing problems links to corresponding files are given. **Copy all these to your project as you go through the tasks** and mount your project here so you can examine files directly from the notebook.<br\\>\n",
    "Use following lines:"
   ]
  },
  {
   "cell_type": "code",
   "execution_count": null,
   "metadata": {
    "collapsed": true
   },
   "outputs": [],
   "source": [
    "import pysbg.vsfs\n",
    "import pysam"
   ]
  },
  {
   "cell_type": "code",
   "execution_count": null,
   "metadata": {
    "collapsed": true
   },
   "outputs": [],
   "source": [
    "vsfs = pysbg.vsfs.VSFS(auth_token='<your_token>')"
   ]
  },
  {
   "cell_type": "code",
   "execution_count": null,
   "metadata": {
    "collapsed": true
   },
   "outputs": [],
   "source": [
    "vsfs.umount('your_mount_dir')\n",
    "vsfs.mount('your_mount_dir', 'your_project_ID')"
   ]
  },
  {
   "cell_type": "markdown",
   "metadata": {},
   "source": [
    "It is a good practice to give the same or similar name to *your_mount_dir* as you named the project you're mounting so you can easily recognize which project it is later on."
   ]
  },
  {
   "cell_type": "markdown",
   "metadata": {},
   "source": [
    "# FASTA and FASTQ formats"
   ]
  },
  {
   "cell_type": "markdown",
   "metadata": {},
   "source": [
    "### Problem 1.\n",
    "Given [ucsc.hg19.fasta](https://igor.sbgenomics.com/public/files/5772b6df507c1752674486ee/) file determine the following:\n",
    "* Number of contigs (chromosomes)\n",
    "* Number of bases\n",
    "* Number of bases for each contig\n",
    "\n",
    "Extract chromosome 20 (chr20) in separate FASTA file and validate created FASTA file by running an alignment (given the folowing reads: [mate1](https://igor.sbgenomics.com/u/ana_d/onboarding-failed-tasks/files/58aec21de4b0626ae9dda749/), [mate2](https://igor.sbgenomics.com/u/ana_d/onboarding-failed-tasks/files/58aec21de4b0626ae9dda74a/))."
   ]
  },
  {
   "cell_type": "code",
   "execution_count": null,
   "metadata": {
    "collapsed": true
   },
   "outputs": [],
   "source": [
    "## Try to code this not using python modules other then built-in ones\n",
    "\n",
    "#FASTA and FASTQ formats#\n",
    "#########################\n",
    "#Problem 1.\n",
    "#Given ucsc.hg19.fasta file determine the following:\n",
    "# 1. Number of contigs (chromosomes)\n",
    "# 2. Number of bases\n",
    "# 3. Number of bases for each contig\n",
    "#Extract chromosome 20 (chr20) in separate FASTA file and validate \n",
    "#created FASTA file by running an alignment (given the folowing reads: \n",
    "#    mate1, mate2).\n",
    "\n",
    "## Try to code this not using python modules other then built-in ones\n",
    "\n",
    "filename = '/Users/igorhut/Documents/Onboarding_failed_tasks/Projects/253b1ef0-de03-4a2c-95f4-4d8fc2963aaa/ucsc.hg19.fasta'\n",
    "\n",
    "#Count contigs\n",
    "def countContigs(filename):\n",
    "    num_contigs = 0\n",
    "    with open(filename, 'r') as f:\n",
    "        for line in f:\n",
    "            if line[0] == '>':\n",
    "                num_contigs += 1\n",
    "    return num_contigs\n",
    "\n",
    "num_cont = countContigs(filename)\n",
    "print('There are ' + str(num_cont) + ' contigs.') # so there are 93 contigs\n",
    "\n",
    "# Read in the whole genome\n",
    "def readGenome(filename):\n",
    "    genome = ''\n",
    "    with open(filename, 'r') as f:\n",
    "        for line in f:\n",
    "            # ignore header line with genome information\n",
    "            if not line[0] == '>':\n",
    "                genome += line.rstrip()\n",
    "    return genome\n",
    "genome = readGenome(filename)\n",
    "genome[:100]\n",
    "\n",
    "# And now count the bases\n",
    "import collections\n",
    "all_bases = collections.Counter(genome)\n",
    "all_bases\n",
    "\n",
    "#Counter({'A': 425987911,\n",
    "#         'C': 288802645,\n",
    "#         'G': 289047188,\n",
    "#         'N': 239850717,\n",
    "#         'T': 426549515,\n",
    "#         'a': 428975238,\n",
    "#         'c': 304164079,\n",
    "#         'g': 304278040,\n",
    "#         'n': 85,\n",
    "#         't': 429505846})\n",
    "    \n",
    "# Number of all bases:\n",
    "sum(all_bases.values()) #3137161264\n",
    "    \n",
    "# Count bases by contigs (using dictionary)\n",
    "def countBasesByContig(filename):\n",
    "    cnt = {}\n",
    "    with open(filename, 'r') as f:\n",
    "        for line in f:\n",
    "            if line[0] == '>':\n",
    "                cnt_line = line                \n",
    "                cnt[cnt_line] = 0\n",
    "                continue\n",
    "            cnt[cnt_line] += len(line) - 1                \n",
    "    return cnt\n",
    "\n",
    "dict_num_by_contig = countBasesByContig(filename)\n",
    "dict_num_by_contig\n",
    "\n",
    "# Count bases by contigs (using Counter)\n",
    "def countBasesByContig(filename):\n",
    "    cnt = collections.Counter()\n",
    "    with open(filename, 'r') as f:\n",
    "        for line in f:\n",
    "            if line[0] == '>':\n",
    "                cnt_line = line                \n",
    "                cnt[cnt_line] = 0\n",
    "                continue\n",
    "            cnt[cnt_line] += len(line)-1                \n",
    "    return cnt\n",
    "\n",
    "bases_by_contig = countBasesByContig(filename)\n",
    "bases_by_contig\n",
    "\n",
    "#Counter({'>chr1\\n': 249250621,\n",
    "#         '>chr10\\n': 135534747,\n",
    "#         '>chr11\\n': 135006516,\n",
    "#         '>chr11_gl000202_random\\n': 40103,\n",
    "#         '>chr12\\n': 133851895,\n",
    "#         '>chr13\\n': 115169878,\n",
    "#         '>chr14\\n': 107349540,\n",
    "#         '>chr15\\n': 102531392,\n",
    "#         '>chr16\\n': 90354753,\n",
    "#         '>chr17\\n': 81195210,\n",
    "#         '>chr17_ctg5_hap1\\n': 1680828,\n",
    "#         '>chr17_gl000203_random\\n': 37498,\n",
    "#         '>chr17_gl000204_random\\n': 81310,\n",
    "#         '>chr17_gl000205_random\\n': 174588,\n",
    "#         '>chr17_gl000206_random\\n': 41001,\n",
    "#         '>chr18\\n': 78077248,\n",
    "#         '>chr18_gl000207_random\\n': 4262,\n",
    "#         '>chr19\\n': 59128983,\n",
    "#         '>chr19_gl000208_random\\n': 92689,\n",
    "#         '>chr19_gl000209_random\\n': 159169,\n",
    "#         '>chr1_gl000191_random\\n': 106433,\n",
    "#         '>chr1_gl000192_random\\n': 547496,\n",
    "#         '>chr2\\n': 243199373,\n",
    "#         '>chr20\\n': 63025520,\n",
    "#         '>chr21\\n': 48129895,\n",
    "#         '>chr21_gl000210_random\\n': 27682,\n",
    "#         '>chr22\\n': 51304566,\n",
    "#         '>chr3\\n': 198022430,\n",
    "#         '>chr4\\n': 191154276,\n",
    "#         '>chr4_ctg9_hap1\\n': 590426,\n",
    "#         '>chr4_gl000193_random\\n': 189789,\n",
    "#         '>chr4_gl000194_random\\n': 191469,\n",
    "#         '>chr5\\n': 180915260,\n",
    "#         '>chr6\\n': 171115067,\n",
    "#         '>chr6_apd_hap1\\n': 4622290,\n",
    "#         '>chr6_cox_hap2\\n': 4795371,\n",
    "#         '>chr6_dbb_hap3\\n': 4610396,\n",
    "#         '>chr6_mann_hap4\\n': 4683263,\n",
    "#         '>chr6_mcf_hap5\\n': 4833398,\n",
    "#         '>chr6_qbl_hap6\\n': 4611984,\n",
    "#         '>chr6_ssto_hap7\\n': 4928567,\n",
    "#         '>chr7\\n': 159138663,\n",
    "#         '>chr7_gl000195_random\\n': 182896,\n",
    "#         '>chr8\\n': 146364022,\n",
    "#         '>chr8_gl000196_random\\n': 38914,\n",
    "#         '>chr8_gl000197_random\\n': 37175,\n",
    "#         '>chr9\\n': 141213431,\n",
    "#         '>chr9_gl000198_random\\n': 90085,\n",
    "#         '>chr9_gl000199_random\\n': 169874,\n",
    "#         '>chr9_gl000200_random\\n': 187035,\n",
    "#         '>chr9_gl000201_random\\n': 36148,\n",
    "#         '>chrM\\n': 16571,\n",
    "#         '>chrUn_gl000211\\n': 166566,\n",
    "#         '>chrUn_gl000212\\n': 186858,\n",
    "#         '>chrUn_gl000213\\n': 164239,\n",
    "#         '>chrUn_gl000214\\n': 137718,\n",
    "#         '>chrUn_gl000215\\n': 172545,\n",
    "#         '>chrUn_gl000216\\n': 172294,\n",
    "#         '>chrUn_gl000217\\n': 172149,\n",
    "#         '>chrUn_gl000218\\n': 161147,\n",
    "#         '>chrUn_gl000219\\n': 179198,\n",
    "#         '>chrUn_gl000220\\n': 161802,\n",
    "#         '>chrUn_gl000221\\n': 155397,\n",
    "#         '>chrUn_gl000222\\n': 186861,\n",
    "#         '>chrUn_gl000223\\n': 180455,\n",
    "#         '>chrUn_gl000224\\n': 179693,\n",
    "#         '>chrUn_gl000225\\n': 211173,\n",
    "#         '>chrUn_gl000226\\n': 15008,\n",
    "#         '>chrUn_gl000227\\n': 128374,\n",
    "#         '>chrUn_gl000228\\n': 129120,\n",
    "#         '>chrUn_gl000229\\n': 19913,\n",
    "#         '>chrUn_gl000230\\n': 43691,\n",
    "#         '>chrUn_gl000231\\n': 27386,\n",
    "#         '>chrUn_gl000232\\n': 40652,\n",
    "#         '>chrUn_gl000233\\n': 45941,\n",
    "#         '>chrUn_gl000234\\n': 40531,\n",
    "#         '>chrUn_gl000235\\n': 34474,\n",
    "#         '>chrUn_gl000236\\n': 41934,\n",
    "#         '>chrUn_gl000237\\n': 45867,\n",
    "#         '>chrUn_gl000238\\n': 39939,\n",
    "#         '>chrUn_gl000239\\n': 33824,\n",
    "#         '>chrUn_gl000240\\n': 41933,\n",
    "#         '>chrUn_gl000241\\n': 42152,\n",
    "#         '>chrUn_gl000242\\n': 43523,\n",
    "#         '>chrUn_gl000243\\n': 43341,\n",
    "#         '>chrUn_gl000244\\n': 39929,\n",
    "#         '>chrUn_gl000245\\n': 36651,\n",
    "#         '>chrUn_gl000246\\n': 38154,\n",
    "#         '>chrUn_gl000247\\n': 36422,\n",
    "#         '>chrUn_gl000248\\n': 39786,\n",
    "#         '>chrUn_gl000249\\n': 38502,\n",
    "#         '>chrX\\n': 155270560,\n",
    "#         '>chrY\\n': 59373566})\n",
    "    \n",
    "sum(bases_by_contig.values()) #3137161264 - bombona!\n",
    "\n",
    "#Extract chromosome 20 (chr20) in separate FASTA file \n",
    "\n",
    "parse = False\n",
    "with open(filename, 'r') as f1:\n",
    "    with open('chr20.fasta', 'a') as f2:\n",
    "        for line in f1:\n",
    "            if line.startswith('>chr20'):\n",
    "                parse = True\n",
    "            elif line.startswith('>chr21'):\n",
    "                parse = False\n",
    "            if parse:\n",
    "                f2.write(line)\n",
    "                \n",
    "!ls               \n",
    "# Count # of bases in chr20.fasta to check whether all is fine\n",
    "chr_20 = readGenome('chr20.fasta')\n",
    "import collections\n",
    "chr_20_bases = collections.Counter(chr_20)\n",
    "chr_20_bases\n",
    "sum(chr_20_bases.values()) #63025520 - Valja!\n",
    "\n"
   ]
  },
  {
   "cell_type": "code",
   "execution_count": null,
   "metadata": {
    "collapsed": true
   },
   "outputs": [],
   "source": [
    "## Use pyton pysam module\n",
    "import pysam\n",
    "\n",
    "\n",
    "# And now repeat everything with 'pysam'#\n",
    "#########################################\n",
    "import pysam as ps\n",
    "\n",
    "# Fetch names of reference sequences\n",
    "fasta = ps.Fastafile(filename)\n",
    "fasta.references\n",
    "\n",
    "# Tuple with the lengths of reference sequences\n",
    "fasta.lengths\n",
    "\n",
    "#Make a dictionary with keys = references and values = lengths\n",
    "ref_len_dict = dict(zip(fasta.references, fasta.lengths))\n",
    "ref_len_dict # This gives num of bases per contig\n",
    "\n",
    "#{'chr1': 249250621,\n",
    "# 'chr10': 135534747,\n",
    "# 'chr11': 135006516,\n",
    "# 'chr11_gl000202_random': 40103,\n",
    "# 'chr12': 133851895,\n",
    "# 'chr13': 115169878,\n",
    "# 'chr14': 107349540,\n",
    "# 'chr15': 102531392,\n",
    "# 'chr16': 90354753,\n",
    "# 'chr17': 81195210,\n",
    "# 'chr17_ctg5_hap1': 1680828,\n",
    "# 'chr17_gl000203_random': 37498,\n",
    "# 'chr17_gl000204_random': 81310,\n",
    "# 'chr17_gl000205_random': 174588,\n",
    "# 'chr17_gl000206_random': 41001,\n",
    "# 'chr18': 78077248,\n",
    "# 'chr18_gl000207_random': 4262,\n",
    "# 'chr19': 59128983,\n",
    "# 'chr19_gl000208_random': 92689,\n",
    "# 'chr19_gl000209_random': 159169,\n",
    "# 'chr1_gl000191_random': 106433,\n",
    "# 'chr1_gl000192_random': 547496,\n",
    "# 'chr2': 243199373,\n",
    "# 'chr20': 63025520,\n",
    "# 'chr21': 48129895,\n",
    "# 'chr21_gl000210_random': 27682,\n",
    "# 'chr22': 51304566,\n",
    "# 'chr3': 198022430,\n",
    "# 'chr4': 191154276,\n",
    "# 'chr4_ctg9_hap1': 590426,\n",
    "# 'chr4_gl000193_random': 189789,\n",
    "# 'chr4_gl000194_random': 191469,\n",
    "# 'chr5': 180915260,\n",
    "# 'chr6': 171115067,\n",
    "# 'chr6_apd_hap1': 4622290,\n",
    "# 'chr6_cox_hap2': 4795371,\n",
    "# 'chr6_dbb_hap3': 4610396,\n",
    "# 'chr6_mann_hap4': 4683263,\n",
    "# 'chr6_mcf_hap5': 4833398,\n",
    "# 'chr6_qbl_hap6': 4611984,\n",
    "# 'chr6_ssto_hap7': 4928567,\n",
    "# 'chr7': 159138663,\n",
    "# 'chr7_gl000195_random': 182896,\n",
    "# 'chr8': 146364022,\n",
    "# 'chr8_gl000196_random': 38914,\n",
    "# 'chr8_gl000197_random': 37175,\n",
    "# 'chr9': 141213431,\n",
    "# 'chr9_gl000198_random': 90085,\n",
    "# 'chr9_gl000199_random': 169874,\n",
    "# 'chr9_gl000200_random': 187035,\n",
    "# 'chr9_gl000201_random': 36148,\n",
    "# 'chrM': 16571,\n",
    "# 'chrUn_gl000211': 166566,\n",
    "# 'chrUn_gl000212': 186858,\n",
    "# 'chrUn_gl000213': 164239,\n",
    "# 'chrUn_gl000214': 137718,\n",
    "# 'chrUn_gl000215': 172545,\n",
    "# 'chrUn_gl000216': 172294,\n",
    "# 'chrUn_gl000217': 172149,\n",
    "# 'chrUn_gl000218': 161147,\n",
    "# 'chrUn_gl000219': 179198,\n",
    "# 'chrUn_gl000220': 161802,\n",
    "# 'chrUn_gl000221': 155397,\n",
    "# 'chrUn_gl000222': 186861,\n",
    "# 'chrUn_gl000223': 180455,\n",
    "# 'chrUn_gl000224': 179693,\n",
    "# 'chrUn_gl000225': 211173,\n",
    "# 'chrUn_gl000226': 15008,\n",
    "# 'chrUn_gl000227': 128374,\n",
    "# 'chrUn_gl000228': 129120,\n",
    "# 'chrUn_gl000229': 19913,\n",
    "# 'chrUn_gl000230': 43691,\n",
    "# 'chrUn_gl000231': 27386,\n",
    "# 'chrUn_gl000232': 40652,\n",
    "# 'chrUn_gl000233': 45941,\n",
    "# 'chrUn_gl000234': 40531,\n",
    "# 'chrUn_gl000235': 34474,\n",
    "# 'chrUn_gl000236': 41934,\n",
    "# 'chrUn_gl000237': 45867,\n",
    "# 'chrUn_gl000238': 39939,\n",
    "# 'chrUn_gl000239': 33824,\n",
    "# 'chrUn_gl000240': 41933,\n",
    "# 'chrUn_gl000241': 42152,\n",
    "# 'chrUn_gl000242': 43523,\n",
    "# 'chrUn_gl000243': 43341,\n",
    "# 'chrUn_gl000244': 39929,\n",
    "# 'chrUn_gl000245': 36651,\n",
    "# 'chrUn_gl000246': 38154,\n",
    "# 'chrUn_gl000247': 36422,\n",
    "# 'chrUn_gl000248': 39786,\n",
    "# 'chrUn_gl000249': 38502,\n",
    "# 'chrX': 155270560,\n",
    "# 'chrY': 59373566}\n",
    "\n",
    "# Num of contigs\n",
    "len(ref_len_dict) #93\n",
    "\n",
    "#Num of bases\n",
    "sum(ref_len_dict.values()) # 3137161264 - odlican\n",
    "\n",
    "# Extract chromosome 20 (chr20) into separate FASTA file \n",
    "f = open('chr_20_pysam.fasta', 'wt')\n",
    "f.write(fasta.fetch(reference = 'chr20'))\n",
    "fasta.close()\n"
   ]
  },
  {
   "cell_type": "markdown",
   "metadata": {},
   "source": [
    "Extract chromosome 20 (chr20) in separate FASTA file and validate created FASTA file by running an alignment (given the folowing reads: [mate1](https://igor.sbgenomics.com/u/ana_d/onboarding-failed-tasks/files/58aec21de4b0626ae9dda749/), [mate2](https://igor.sbgenomics.com/u/ana_d/onboarding-failed-tasks/files/58aec21de4b0626ae9dda74a/))."
   ]
  },
  {
   "cell_type": "code",
   "execution_count": null,
   "metadata": {
    "collapsed": true
   },
   "outputs": [],
   "source": [
    "! bwa index chr20.fasta\n",
    "! bwa mem -M -t 4 chr20.fasta Sample2_RNASeq_chr20.pe_1.fastq Sample2_RNASeq_chr20.pe_2.fastq > aln_1.sam\n"
   ]
  },
  {
   "cell_type": "markdown",
   "metadata": {},
   "source": [
    "### Problem 2.\n",
    "\n",
    "Count the number of reads contained in the given sample - [NA12878-Garvan-Vial1_R1.fastq.gz](https://igor.sbgenomics.com/u/ana_d/onboarding-failed-tasks/files/58c271b3e4b0c760743ec271/).<br\\>\n",
    "Sample is in fastq.gz format and reads should be counted ***without prior decompression*** (you can use bash commands)."
   ]
  },
  {
   "cell_type": "code",
   "execution_count": null,
   "metadata": {
    "collapsed": true
   },
   "outputs": [],
   "source": [
    "# Probably a good idea: run it in the background \n",
    "!nohup echo $(gunzip -c NA12878-Garvan-Vial1_R1.fastq.gz | wc -l) /4 | bc &\n",
    "\n",
    "# can also use 'gzcat' or 'zcat <' \n",
    "\n",
    "# or get read leangth statistics awk and gzcat\n",
    "gzcat NA12878-Garvan-Vial1_R1.fastq.gz | awk '{if(NR%4==2) print length($1)}' > input.readslength.txt\n",
    "sort input.readslength.txt | uniq -c\n",
    "\n"
   ]
  },
  {
   "cell_type": "markdown",
   "metadata": {},
   "source": [
    "### Or in a more \"pythonic\" manner"
   ]
  },
  {
   "cell_type": "code",
   "execution_count": null,
   "metadata": {
    "collapsed": true
   },
   "outputs": [],
   "source": [
    "import commands\n",
    "result = commands.getoutput('gunzip -c NA12878-Garvan-Vial1_R1.fastq.gz | wc -l')\n",
    "numseqs = int(result) / 4.0"
   ]
  },
  {
   "cell_type": "markdown",
   "metadata": {},
   "source": [
    "### Problem 3.\n",
    "\n",
    "What is the read length of reads from previous problem?<br\\>Try to determine this\n",
    "***without decompressing files*** (you can use bash commands as well)."
   ]
  },
  {
   "cell_type": "code",
   "execution_count": null,
   "metadata": {
    "collapsed": true
   },
   "outputs": [],
   "source": [
    "# With 'awk'\n",
    "gzcat /Users/igorhut/Documents/Onboarding_failed_tasks/Projects/253b1ef0-de03-4a2c-95f4-4d8fc2963aaa/NA12878-Garvan-Vial1_R1.fastq.gz \\\n",
    "| awk 'NR%4 == 2 {print length($0)}; NR >= 100 {exit}' \n",
    "\n",
    "# or for further analysis\n",
    "gzcat /Users/igorhut/Documents/Onboarding_failed_tasks/Projects/253b1ef0-de03-4a2c-95f4-4d8fc2963aaa/NA12878-Garvan-Vial1_R1.fastq.gz \\\n",
    "| awk 'NR%4 == 2 {print length($0)}; NR >= 100 {exit}' > read_len.txt\n",
    "\n",
    "# Also check FASTX-Toolkit (http://hannonlab.cshl.edu/fastx_toolkit/index.html) \n",
    "# and compare results!\n",
    "\n"
   ]
  },
  {
   "cell_type": "markdown",
   "metadata": {},
   "source": [
    "### Problem 4.\n",
    "\n",
    "Given CCLE sample ([mate1](https://igor.sbgenomics.com/u/ana_d/onboarding-failed-tasks/files/58c27200e4b0c760743ec283/), [mate2](https://igor.sbgenomics.com/u/ana_d/onboarding-failed-tasks/files/58c271f5e4b0c760743ec280/)), discard all reads that contain at least one base with quality of 10 (Sanger quality scale). This assumes creating new FASTQ files which contain only valid reads. Check if you can run alignment successfully with new files. \n",
    "\n",
    "*Do this one also in R by utilising `qrqc`, `sickle` and `seqtk` for the sake of exercise.*\n",
    "*Also play arround with FastQC.*"
   ]
  },
  {
   "cell_type": "code",
   "execution_count": null,
   "metadata": {
    "collapsed": true
   },
   "outputs": [],
   "source": [
    "from Bio import SeqIO\n",
    "\n",
    "#First let's count the # of reads\n",
    "count = 0\n",
    "for rec in SeqIO.parse(\"/Users/igorhut/Documents/Onboarding_failed_tasks/Projects/253b1ef0-de03-4a2c-95f4-4d8fc2963aaa/G20479.HCC1143.2.converted.pe_1_1Mreads.fastq\", \"fastq\"):\n",
    "    count += 1\n",
    "print( \"%i reads\" % count) #1000000 reads\n",
    "\n",
    "# And now let's trim reads which have that contain at least one base with quality of \n",
    "# 10 (Sanger quality scale)\n",
    "good_reads_1 = (rec for rec in \\\n",
    "              SeqIO.parse(\"/Users/igorhut/Documents/Onboarding_failed_tasks/Projects/253b1ef0-de03-4a2c-95f4-4d8fc2963aaa/G20479.HCC1143.2.converted.pe_1_1Mreads.fastq\", \"fastq\") \\\n",
    "              if min(rec.letter_annotations[\"phred_quality\"]) >= 10)\n",
    "count_1 = SeqIO.write(good_reads_1, \"good_quality_pe_1.fastq\", \"fastq\")\n",
    "\n",
    "print(\"Saved %i reads\" % count_1) # Saved 738538 reads\n",
    "\n",
    "good_reads_2 = (rec for rec in \\\n",
    "              SeqIO.parse(\"/Users/igorhut/Documents/Onboarding_failed_tasks/Projects/253b1ef0-de03-4a2c-95f4-4d8fc2963aaa/G20479.HCC1143.2.converted.pe_2_1Mreads.fastq\", \"fastq\") \\\n",
    "              if min(rec.letter_annotations[\"phred_quality\"]) >= 10)\n",
    "count_2 = SeqIO.write(good_reads_2, \"good_quality_pe_2.fastq\", \"fastq\")\n",
    "\n",
    "print(\"Saved %i reads\" % count_2) # Saved 606352 reads "
   ]
  },
  {
   "cell_type": "markdown",
   "metadata": {},
   "source": [
    "### Problem 5.\n",
    "\n",
    "Given reference genome [chr20.fa](https://igor.sbgenomics.com/u/ana_d/onboarding-failed-tasks/files/58aed398e4b0626ae9dda7a8/) and annotation [chr20.gtf](https://igor.sbgenomics.com/u/ana_d/onboarding-failed-tasks/files/58c44f13e4b0c760743ed1e4/) files, extract\n",
    "transcriptome ***NM_001008409*** of gene ***TTLL9*** and write it to a new FASTA file."
   ]
  },
  {
   "cell_type": "code",
   "execution_count": null,
   "metadata": {
    "collapsed": true
   },
   "outputs": [],
   "source": [
    "#Command line \n",
    "#./gffread /Users/igorhut/Documents/Onboarding_failed_tasks/Projects/253b1ef0-de03-4a2c-95f4-4d8fc2963aaa/chr20.gtf  \n",
    "# -g /Users/igorhut/Documents/Onboarding_failed_tasks/Projects/253b1ef0-de03-4a2c-95f4-4d8fc2963aaa/chr20.fa \n",
    "# -w chr20_TTLL9.fa"
   ]
  },
  {
   "cell_type": "markdown",
   "metadata": {},
   "source": [
    "# SAM/BAM formats"
   ]
  },
  {
   "cell_type": "markdown",
   "metadata": {},
   "source": [
    "**SAM (file format)** is a text-based format for storing biological sequences aligned to a reference sequence. The acronym SAM stands for **Sequence Alignment/Map**. It is widely used for storing data, such as nucleotide sequences, generated by Next generation sequencing technologies.<br\\>\n",
    "The SAM format consists of a header and an alignment section. The binary representation of a SAM file is a **BAM** file, which is a compressed SAM file.\n",
    "\n",
    "Useful links:\n",
    "* [SAM specification](https://samtools.github.io/hts-specs/SAMv1.pdf)\n",
    "* [SAM flags explained](https://broadinstitute.github.io/picard/explain-flags.html)\n"
   ]
  },
  {
   "cell_type": "markdown",
   "metadata": {},
   "source": [
    "### Problem 1.\n",
    "\n",
    "Given [WGS BAM file](https://igor.sbgenomics.com/u/ana_d/onboarding-failed-tasks/files/58c2728fe4b0c760743ec360/), inspect the range 20,327,462-20,327,573 on chromosome 20 in the genome browser on the platform.<br\\>\n",
    "After that, list all the reads which align at that region using <code><font color='magenta'>pysam</font></code> python module. By clicking on one of the reads in genome browser in the same interval, read it’s name (i.e. *ST-E00185:49:H5LVWCCXX:5:1205:18214:19891*) and check if it is on the mentioned list."
   ]
  },
  {
   "cell_type": "code",
   "execution_count": null,
   "metadata": {
    "collapsed": true
   },
   "outputs": [],
   "source": [
    "fname = '/Users/igorhut/Documents/Onboarding_failed_tasks/Projects/253b1ef0-de03-4a2c-95f4-4d8fc2963aaa/NA12878_NA12878-Garvan-Vial1_R.realigned.base_recalibrated.merged.bam'\n",
    "bamfile = ps.AlignmentFile(filename = fname, mode = 'rb')\n",
    "bam_dict = {}\n",
    "for read in bamfile.fetch('20', start = 20327462, end = 20327573):\n",
    "    print(read.qname, 'aligned at position', read.pos)\n",
    "    bam_dict[read.qname] = read.pos\n",
    "    \n",
    "#ST-E00185:49:H5LVWCCXX:5:1201:9779:63438 aligned at position 20327324\n",
    "#ST-E00185:49:H5LVWCCXX:5:2205:12439:8692 aligned at position 20327325\n",
    "#ST-E00185:49:H5LVWCCXX:5:1116:23878:51501 aligned at position 20327329\n",
    "#ST-E00185:49:H5LVWCCXX:5:2116:21797:46068 aligned at position 20327329\n",
    "#ST-E00185:49:H5LVWCCXX:5:1209:9993:48336 aligned at position 20327330\n",
    "#ST-E00185:49:H5LVWCCXX:5:2213:21553:38649 aligned at position 20327333\n",
    "#ST-E00185:49:H5LVWCCXX:5:1220:14885:64651 aligned at position 20327339\n",
    "#ST-E00185:49:H5LVWCCXX:5:1114:4522:48529 aligned at position 20327345\n",
    "#ST-E00185:49:H5LVWCCXX:5:2217:8237:27468 aligned at position 20327349\n",
    "#ST-E00185:49:H5LVWCCXX:5:1115:29876:19909 aligned at position 20327351\n",
    "#ST-E00185:49:H5LVWCCXX:5:2108:15646:73072 aligned at position 20327351\n",
    "#ST-E00185:49:H5LVWCCXX:5:1109:21726:22915 aligned at position 20327355\n",
    "#ST-E00185:49:H5LVWCCXX:5:1109:21807:22880 aligned at position 20327355\n",
    "#ST-E00185:49:H5LVWCCXX:5:1108:14763:24673 aligned at position 20327356\n",
    "#ST-E00185:49:H5LVWCCXX:5:1108:14773:24691 aligned at position 20327356\n",
    "#ST-E00185:49:H5LVWCCXX:5:1108:14804:24603 aligned at position 20327356\n",
    "#ST-E00185:49:H5LVWCCXX:5:2110:23908:49022 aligned at position 20327357\n",
    "#ST-E00185:49:H5LVWCCXX:5:1120:26233:60924 aligned at position 20327362\n",
    "#ST-E00185:49:H5LVWCCXX:5:1213:15788:2469 aligned at position 20327363\n",
    "#ST-E00185:49:H5LVWCCXX:5:2201:28973:13175 aligned at position 20327373\n",
    "#ST-E00185:49:H5LVWCCXX:5:2212:6359:29174 aligned at position 20327378\n",
    "#ST-E00185:49:H5LVWCCXX:5:2208:7222:25570 aligned at position 20327382\n",
    "#ST-E00185:49:H5LVWCCXX:5:1203:31937:14019 aligned at position 20327386\n",
    "#ST-E00185:49:H5LVWCCXX:5:2208:6247:50182 aligned at position 20327388\n",
    "#ST-E00185:49:H5LVWCCXX:5:1102:7749:46912 aligned at position 20327389\n",
    "#ST-E00185:49:H5LVWCCXX:5:1119:4075:37348 aligned at position 20327389\n",
    "#ST-E00185:49:H5LVWCCXX:5:2210:19584:11224 aligned at position 20327391\n",
    "#ST-E00185:49:H5LVWCCXX:5:2110:16895:5581 aligned at position 20327393\n",
    "#ST-E00185:49:H5LVWCCXX:5:1203:31937:14019 aligned at position 20327393\n",
    "#ST-E00185:49:H5LVWCCXX:5:1116:23878:51501 aligned at position 20327396\n",
    "#ST-E00185:49:H5LVWCCXX:5:2221:12215:38157 aligned at position 20327396\n",
    "#ST-E00185:49:H5LVWCCXX:5:1112:29257:10011 aligned at position 20327398\n",
    "#ST-E00185:49:H5LVWCCXX:5:2107:3669:47580 aligned at position 20327400\n",
    "#ST-E00185:49:H5LVWCCXX:5:1103:9840:47369 aligned at position 20327402\n",
    "#ST-E00185:49:H5LVWCCXX:5:2117:31592:44328 aligned at position 20327406\n",
    "#ST-E00185:49:H5LVWCCXX:5:1219:18001:58304 aligned at position 20327408\n",
    "#ST-E00185:49:H5LVWCCXX:5:2123:18965:6636 aligned at position 20327408\n",
    "#ST-E00185:49:H5LVWCCXX:5:2208:6613:35766 aligned at position 20327409\n",
    "#ST-E00185:49:H5LVWCCXX:5:1111:7617:63877 aligned at position 20327410\n",
    "#ST-E00185:49:H5LVWCCXX:5:1111:7891:63965 aligned at position 20327410\n",
    "#ST-E00185:49:H5LVWCCXX:5:1111:7902:63983 aligned at position 20327410\n",
    "#ST-E00185:49:H5LVWCCXX:5:1221:23472:32022 aligned at position 20327414\n",
    "#ST-E00185:49:H5LVWCCXX:5:1117:14733:49303 aligned at position 20327424\n",
    "#ST-E00185:49:H5LVWCCXX:5:1103:29714:61820 aligned at position 20327429\n",
    "#ST-E00185:49:H5LVWCCXX:5:1115:29876:19909 aligned at position 20327433\n",
    "#ST-E00185:49:H5LVWCCXX:5:2204:12916:36909 aligned at position 20327446\n",
    "#ST-E00185:49:H5LVWCCXX:5:2217:29562:63596 aligned at position 20327447\n",
    "#ST-E00185:49:H5LVWCCXX:5:2106:17737:34571 aligned at position 20327451\n",
    "#ST-E00185:49:H5LVWCCXX:5:1105:18316:48758 aligned at position 20327457\n",
    "#ST-E00185:49:H5LVWCCXX:5:2213:21553:38649 aligned at position 20327458\n",
    "#ST-E00185:49:H5LVWCCXX:5:1209:6785:21966 aligned at position 20327460\n",
    "#ST-E00185:49:H5LVWCCXX:5:2219:11068:32936 aligned at position 20327463\n",
    "#ST-E00185:49:H5LVWCCXX:5:2201:28973:13175 aligned at position 20327466\n",
    "#ST-E00185:49:H5LVWCCXX:5:2220:10490:63438 aligned at position 20327467\n",
    "#ST-E00185:49:H5LVWCCXX:5:2218:28384:15742 aligned at position 20327472\n",
    "#ST-E00185:49:H5LVWCCXX:5:2101:26365:13193 aligned at position 20327475\n",
    "#ST-E00185:49:H5LVWCCXX:5:1203:10429:11505 aligned at position 20327476\n",
    "#ST-E00185:49:H5LVWCCXX:5:2107:4633:59025 aligned at position 20327476\n",
    "#ST-E00185:49:H5LVWCCXX:5:1102:22913:25288 aligned at position 20327486\n",
    "#ST-E00185:49:H5LVWCCXX:5:2219:14936:53030 aligned at position 20327487\n",
    "#ST-E00185:49:H5LVWCCXX:5:2219:15057:51764 aligned at position 20327487\n",
    "#ST-E00185:49:H5LVWCCXX:5:1213:15788:2469 aligned at position 20327490\n",
    "#ST-E00185:49:H5LVWCCXX:5:1108:28080:23829 aligned at position 20327492\n",
    "#ST-E00185:49:H5LVWCCXX:5:1113:9810:13457 aligned at position 20327501\n",
    "#ST-E00185:49:H5LVWCCXX:5:1205:18214:19891 aligned at position 20327504\n",
    "#ST-E00185:49:H5LVWCCXX:5:1111:10246:10029 aligned at position 20327505\n",
    "#ST-E00185:49:H5LVWCCXX:5:1209:25492:63227 aligned at position 20327506\n",
    "#ST-E00185:49:H5LVWCCXX:5:1103:24477:23530 aligned at position 20327507\n",
    "#ST-E00185:49:H5LVWCCXX:5:2122:15930:31547 aligned at position 20327509\n",
    "#ST-E00185:49:H5LVWCCXX:5:1207:3243:17729 aligned at position 20327512\n",
    "#ST-E00185:49:H5LVWCCXX:5:1109:6572:47264 aligned at position 20327517\n",
    "#ST-E00185:49:H5LVWCCXX:5:1203:20833:26009 aligned at position 20327518\n",
    "#ST-E00185:49:H5LVWCCXX:5:2210:19584:11224 aligned at position 20327519\n",
    "#ST-E00185:49:H5LVWCCXX:5:2205:12439:8692 aligned at position 20327527\n",
    "#ST-E00185:49:H5LVWCCXX:5:2205:12520:8798 aligned at position 20327527\n",
    "#ST-E00185:49:H5LVWCCXX:5:1108:14763:24673 aligned at position 20327529\n",
    "#ST-E00185:49:H5LVWCCXX:5:1108:14773:24691 aligned at position 20327529\n",
    "#ST-E00185:49:H5LVWCCXX:5:1108:14804:24603 aligned at position 20327529\n",
    "#ST-E00185:49:H5LVWCCXX:5:1110:19402:14072 aligned at position 20327532\n",
    "#ST-E00185:49:H5LVWCCXX:5:1117:14733:49303 aligned at position 20327532\n",
    "#ST-E00185:49:H5LVWCCXX:5:2219:11068:32936 aligned at position 20327532\n",
    "#ST-E00185:49:H5LVWCCXX:5:1209:26212:31424 aligned at position 20327540\n",
    "#ST-E00185:49:H5LVWCCXX:5:1115:19645:65231 aligned at position 20327541\n",
    "#ST-E00185:49:H5LVWCCXX:5:1221:25847:39194 aligned at position 20327542\n",
    "#ST-E00185:49:H5LVWCCXX:5:2109:29552:23038 aligned at position 20327543\n",
    "#ST-E00185:49:H5LVWCCXX:5:2218:2816:2082 aligned at position 20327552\n",
    "#ST-E00185:49:H5LVWCCXX:5:1102:7749:46912 aligned at position 20327552\n",
    "#ST-E00185:49:H5LVWCCXX:5:1216:13007:47404 aligned at position 20327556\n",
    "#ST-E00185:49:H5LVWCCXX:5:1223:2410:60836 aligned at position 20327556\n",
    "#ST-E00185:49:H5LVWCCXX:5:1214:17443:62928 aligned at position 20327558\n",
    "#ST-E00185:49:H5LVWCCXX:5:2110:14895:12947 aligned at position 20327565\n",
    "#ST-E00185:49:H5LVWCCXX:5:1109:28080:50270 aligned at position 20327566\n",
    "#ST-E00185:49:H5LVWCCXX:5:1109:28161:50164 aligned at position 20327566\n",
    "#ST-E00185:49:H5LVWCCXX:5:1219:18001:58304 aligned at position 20327566\n",
    "#ST-E00185:49:H5LVWCCXX:5:1217:22020:70224 aligned at position 20327569\n",
    "\n",
    "print(bam_dict['ST-E00185:49:H5LVWCCXX:5:1111:10246:10029'])\n",
    "# 20327505\n",
    "\n",
    "bamfile.reset()\n"
   ]
  },
  {
   "cell_type": "markdown",
   "metadata": {},
   "source": [
    "### Problem 2.\n",
    "\n",
    "By inspecting [WGS BAM file](https://igor.sbgenomics.com/u/ana_d/onboarding-failed-tasks/files/58c2728fe4b0c760743ec360/) using <code><font color='magenta'>pysam</font></code> module, determine if reads are single- or paired-end."
   ]
  },
  {
   "cell_type": "code",
   "execution_count": null,
   "metadata": {
    "collapsed": true
   },
   "outputs": [],
   "source": [
    "# For the fun's sake let's check basic information about the first read, i.e. query, and see whether it's a paired-end\n",
    "# read.\n",
    "\n",
    "bamfile.reset()\n",
    "\n",
    "single_read = next(bamfile)\n",
    "print(single_read.query_name)\n",
    "print(single_read.reference_start)\n",
    "print(single_read.query_sequence)\n",
    "print(single_read.query_length)\n",
    "print(single_read.is_paired)\n",
    "print(single_read.is_proper_pair)\n",
    "\n",
    "#ST-E00185:49:H5LVWCCXX:5:1223:30110:1397\n",
    "#9997\n",
    "#CTAACCCTAACCCTAACCCTAACCCTAACCCTAACCCAGAGCCTAAGCCTAACCCTCACCCCCACTCCAACCCCACGCATGCCGCTAACCGCATCCCAAACGATAACCCTAACCCTAACCCTAACCCTAACCCTAACCCTAACCCTAACC\n",
    "#150\n",
    "#True\n",
    "#False\n",
    "\n",
    "# So reads are paired-end\n",
    "\n",
    "#or\n",
    "!samtools view -H G20479.HCC1143.2.converted.pe.Aligned.out.sorted.bam | grep \"^@PG\"\n",
    "# @PG\tID:STAR\tPN:STAR\tVN:STAR_2.4.2a\tCL:/opt/STAR   --runThreadN 32   --genomeDir genomeDir   --readFilesIn /sbgenomics/Projects/067f4d0e-7c7a-4ae1-85a4-feff4ade362e/83c7f03a-2c0d-4c0c-9e27-ba211d5951a2/rna-seq-alignment-star_SBG_FASTQ_Quality_Detector_1_s/G20479.HCC1143.2.converted.pe_1.fastq   /sbgenomics/Projects/067f4d0e-7c7a-4ae1-85a4-feff4ade362e/83c7f03a-2c0d-4c0c-9e27-ba211d5951a2/rna-seq-alignment-star_SBG_FASTQ_Quality_Detector_0_s/G20479.HCC1143.2.converted.pe_2.fastq      --outFileNamePrefix ./G20479.HCC1143.2.converted.pe.   --outReadsUnmapped Fastx   --outSAMtype BAM   Unsorted      --outSAMattrRGline ID:1   PL:Illumina   SM:HCC1143      --chimOutType SeparateSAMold   --sjdbGTFfile /sbgenomics/Projects/067f4d0e-7c7a-4ae1-85a4-feff4ade362e/Homo_sapiens.GRCh37.75.gtf   --sjdbOverhang 100   --quantMode TranscriptomeSAM\n",
    "# So as can be seen two fastq files (*pe_1.fastq and *pe_2.fastq) are used for alignemt so reads are paired-end"
   ]
  },
  {
   "cell_type": "markdown",
   "metadata": {},
   "source": [
    "### Problem 3.\n",
    "\n",
    "Given [RNA-seq BAM file](https://igor.sbgenomics.com/u/ana_d/onboarding-failed-tasks/files/58c272e0e4b0c760743ec363/), print one read which represents secondary alignment.<br\\>\n",
    "(*What is secondary alignment and why is it important? How different aligners control the number of allowed secondary alignments?* - don't need to answer this)"
   ]
  },
  {
   "cell_type": "code",
   "execution_count": null,
   "metadata": {
    "collapsed": true
   },
   "outputs": [],
   "source": [
    "fname = '/Users/igorhut/Documents/Onboarding_failed_tasks/Projects/253b1ef0-de03-4a2c-95f4-4d8fc2963aaa/G20479.HCC1143.2.converted.pe.Aligned.out.sorted.bam'\n",
    "bamfile = ps.AlignmentFile(filename = fname, mode = 'rb')\n",
    "\n",
    "for read in bamfile.fetch():\n",
    "    if read.is_secondary:\n",
    "        print(read)\n",
    "        break\n",
    "\n",
    "# C0VHUACXX120727:5:2212:10271:38999      355     0       10516   0       101M    0       10539   101     CTCTGCTCCGCCTTCGCAGTACCACCGAAATCTGTGCAGAGGAGAACGCAGCTCCGCCCTCGCGGTGCTCTCCGGGTCTGTGCTGAGGAGAACGCAACTCC   array('B', [34, 34, 34, 37, 37, 37, 37, 37, 39, 39, 39, 39, 39, 41, 41, 41, 41, 41, 41, 38, 40, 41, 41, 41, 41, 41, 41, 41, 40, 41, 41, 41, 41, 41, 38, 40, 40, 40, 40, 40, 40, 41, 41, 41, 41, 41, 41, 41, 40, 41, 41, 41, 39, 39, 39, 39, 37, 37, 35, 35, 35, 35, 35, 35, 35, 31, 35, 35, 34, 34, 35, 35, 35, 35, 35, 33, 27, 31, 34, 35, 34, 35, 35, 35, 35, 34, 35, 33, 34, 33, 35, 35, 35, 35, 35, 35, 33, 35, 35, 34, 34])        [('NH', 5), ('HI', 3), ('AS', 182), ('nM', 8), ('RG', '1')]\n",
    "\n",
    "#Or\n",
    "! samtools view -f 256 G20479.HCC1143.2.converted.pe.Aligned.out.sorted.bam | head -n 1\n",
    "# C0VHUACXX120727:5:2212:10271:38999\t355\t1\t10517\t0\t101M\t=\t10540\t122\tCTCTGCTCCGCCTTCGCAGTACCACCGAAATCTGTGCAGAGGAGAACGCAGCTCCGCCCTCGCGGTGCTCTCCGGGTCTGTGCTGAGGAGAACGCAACTCC\tCCCFFFFFHHHHHJJJJJJGIJJJJJJJIJJJJJGIIIIIIJJJJJJJIJJJHHHHFFDDDDDDD@DDCCDDDDDB<@CDCDDDDCDBCBDDDDDDBDDCC\tNH:i:5HI:i:3\tAS:i:182\tnM:i:8\tRG:Z:1\n",
    "  "
   ]
  },
  {
   "cell_type": "markdown",
   "metadata": {},
   "source": [
    "### Problem 4.\n",
    "\n",
    "How many secondary alignments are there for the read from the previous\n",
    "problem?"
   ]
  },
  {
   "cell_type": "code",
   "execution_count": null,
   "metadata": {
    "collapsed": true
   },
   "outputs": [],
   "source": [
    "counter = 0\n",
    "for read in bamfile.fetch():\n",
    "    if read.query_name == \"C0VHUACXX120727:5:2212:10271:38999\":\n",
    "        print(read)\n",
    "        counter += 1\n",
    "print(\"Number of secondary alignments for read C0VHUACXX120727:5:2212:10271:38999 is: \", str(counter/2 - 1)) #paired-end reads\n",
    "\n",
    "#And this will take some time\n",
    "C0VHUACXX120727:5:2212:10271:38999      355     0       10516   0       101M    0       10539   101     CTCTGCTCCGCCTTCGCAGTACCACCGAAATCTGTGCAGAGGAGAACGCAGCTCCGCCCTCGCGGTGCTCTCCGGGTCTGTGCTGAGGAGAACGCAACTCC   array('B', [34, 34, 34, 37, 37, 37, 37, 37, 39, 39, 39, 39, 39, 41, 41, 41, 41, 41, 41, 38, 40, 41, 41, 41, 41, 41, 41, 41, 40, 41, 41, 41, 41, 41, 38, 40, 40, 40, 40, 40, 40, 41, 41, 41, 41, 41, 41, 41, 40, 41, 41, 41, 39, 39, 39, 39, 37, 37, 35, 35, 35, 35, 35, 35, 35, 31, 35, 35, 34, 34, 35, 35, 35, 35, 35, 33, 27, 31, 34, 35, 34, 35, 35, 35, 35, 34, 35, 33, 34, 33, 35, 35, 35, 35, 35, 35, 33, 35, 35, 34, 34])        [('NH', 5), ('HI', 3), ('AS', 182), ('nM', 8), ('RG', '1')]\n",
    "C0VHUACXX120727:5:2212:10271:38999      355     0       10516   0       101M    0       10539   101     CTCTGCTCCGCCTTCGCAGTACCACCGAAATCTGTGCAGAGGAGAACGCAGCTCCGCCCTCGCGGTGCTCTCCGGGTCTGTGCTGAGGAGAACGCAACTCC   array('B', [34, 34, 34, 37, 37, 37, 37, 37, 39, 39, 39, 39, 39, 41, 41, 41, 41, 41, 41, 38, 40, 41, 41, 41, 41, 41, 41, 41, 40, 41, 41, 41, 41, 41, 38, 40, 40, 40, 40, 40, 40, 41, 41, 41, 41, 41, 41, 41, 40, 41, 41, 41, 39, 39, 39, 39, 37, 37, 35, 35, 35, 35, 35, 35, 35, 31, 35, 35, 34, 34, 35, 35, 35, 35, 35, 33, 27, 31, 34, 35, 34, 35, 35, 35, 35, 34, 35, 33, 34, 33, 35, 35, 35, 35, 35, 35, 33, 35, 35, 34, 34])        [('NH', 5), ('HI', 4), ('AS', 182), ('nM', 6), ('RG', '1')]\n",
    "C0VHUACXX120727:5:2212:10271:38999      403     0       10539   0       90M2D11M        0       10516   101     ACCGAAATCTGTGCAGAGGAGAACGCAGCTCCGCCCTCGCGGTGCTCTCCGGGTCTGTGCTGAGGAGAACGCAACTCCGCCGTCGCAAAGGCGCCGCGCCG   array('B', [17, 35, 35, 35, 35, 35, 34, 34, 35, 34, 34, 34, 35, 35, 34, 35, 35, 34, 34, 33, 33, 33, 29, 35, 35, 34, 35, 35, 35, 35, 35, 35, 35, 35, 35, 35, 35, 35, 35, 35, 35, 35, 35, 35, 35, 35, 35, 35, 35, 35, 33, 35, 35, 35, 35, 35, 35, 35, 35, 35, 35, 35, 35, 35, 35, 35, 33, 33, 24, 33, 34, 34, 30, 30, 33, 28, 35, 37, 39, 41, 40, 41, 40, 41, 41, 41, 41, 41, 39, 39, 39, 39, 39, 35, 37, 37, 35, 35, 28, 10, 33])        [('NH', 5), ('HI', 4), ('AS', 182), ('nM', 6), ('RG', '1')]\n",
    "C0VHUACXX120727:5:2212:10271:38999      403     0       10539   0       99M2S   0       10516   99      ACCGAAATCTGTGCAGAGGAGAACGCAGCTCCGCCCTCGCGGTGCTCTCCGGGTCTGTGCTGAGGAGAACGCAACTCCGCCGTCGCAAAGGCGCCGCGCCG   array('B', [17, 35, 35, 35, 35, 35, 34, 34, 35, 34, 34, 34, 35, 35, 34, 35, 35, 34, 34, 33, 33, 33, 29, 35, 35, 34, 35, 35, 35, 35, 35, 35, 35, 35, 35, 35, 35, 35, 35, 35, 35, 35, 35, 35, 35, 35, 35, 35, 35, 35, 33, 35, 35, 35, 35, 35, 35, 35, 35, 35, 35, 35, 35, 35, 35, 35, 33, 33, 24, 33, 34, 34, 30, 30, 33, 28, 35, 37, 39, 41, 40, 41, 40, 41, 41, 41, 41, 41, 39, 39, 39, 39, 39, 35, 37, 37, 35, 35, 28, 10, 33])        [('NH', 5), ('HI', 3), ('AS', 182), ('nM', 8), ('RG', '1')]\n",
    "C0VHUACXX120727:5:2212:10271:38999      419     1       114359812       0       2S99M   1       114359833       99      CGGCGCGGCGCCTTTGCGACGGCGGAGTTGCGTTCTCCTCAGCACAGACCCGGAGAGCACCGCGAGGGCGGAGCTGCGTTCTCCTCTGCACAGATTTCGGT   array('B', [33, 10, 28, 35, 35, 37, 37, 35, 39, 39, 39, 39, 39, 41, 41, 41, 41, 41, 40, 41, 40, 41, 39, 37, 35, 28, 33, 30, 30, 34, 34, 33, 24, 33, 33, 35, 35, 35, 35, 35, 35, 35, 35, 35, 35, 35, 35, 35, 35, 35, 33, 35, 35, 35, 35, 35, 35, 35, 35, 35, 35, 35, 35, 35, 35, 35, 35, 35, 35, 35, 35, 35, 35, 35, 35, 34, 35, 35, 29, 33, 33, 33, 34, 34, 35, 35, 34, 35, 35, 34, 34, 34, 35, 34, 34, 35, 35, 35, 35, 35, 17])        [('NH', 5), ('HI', 5), ('AS', 182), ('nM', 8), ('RG', '1')]\n",
    "C0VHUACXX120727:5:2212:10271:38999      339     1       114359833       0       101M    1       114359812       101     GGAGTTGCGTTCTCCTCAGCACAGACCCGGAGAGCACCGCGAGGGCGGAGCTGCGTTCTCCTCTGCACAGATTTCGGTGGTACTGCGAAGGCGGAGCAGAG   array('B', [34, 34, 35, 35, 33, 35, 35, 35, 35, 35, 35, 33, 34, 33, 35, 34, 35, 35, 35, 35, 34, 35, 34, 31, 27, 33, 35, 35, 35, 35, 35, 34, 34, 35, 35, 31, 35, 35, 35, 35, 35, 35, 35, 37, 37, 39, 39, 39, 39, 41, 41, 41, 40, 41, 41, 41, 41, 41, 41, 41, 40, 40, 40, 40, 40, 40, 38, 41, 41, 41, 41, 41, 40, 41, 41, 41, 41, 41, 41, 41, 40, 38, 41, 41, 41, 41, 41, 41, 39, 39, 39, 39, 39, 37, 37, 37, 37, 37, 34, 34, 34])        [('NH', 5), ('HI', 5), ('AS', 182), ('nM', 8), ('RG', '1')]\n",
    "C0VHUACXX120727:5:2212:10271:38999      99      15      60457   0       101M    15      60480   101     CTCTGCTCCGCCTTCGCAGTACCACCGAAATCTGTGCAGAGGAGAACGCAGCTCCGCCCTCGCGGTGCTCTCCGGGTCTGTGCTGAGGAGAACGCAACTCC   array('B', [34, 34, 34, 37, 37, 37, 37, 37, 39, 39, 39, 39, 39, 41, 41, 41, 41, 41, 41, 38, 40, 41, 41, 41, 41, 41, 41, 41, 40, 41, 41, 41, 41, 41, 38, 40, 40, 40, 40, 40, 40, 41, 41, 41, 41, 41, 41, 41, 40, 41, 41, 41, 39, 39, 39, 39, 37, 37, 35, 35, 35, 35, 35, 35, 35, 31, 35, 35, 34, 34, 35, 35, 35, 35, 35, 33, 27, 31, 34, 35, 34, 35, 35, 35, 35, 34, 35, 33, 34, 33, 35, 35, 35, 35, 35, 35, 33, 35, 35, 34, 34])        [('NH', 5), ('HI', 1), ('AS', 183), ('nM', 5), ('RG', '1')]\n",
    "C0VHUACXX120727:5:2212:10271:38999      355     15      60457   0       101M    15      60480   101     CTCTGCTCCGCCTTCGCAGTACCACCGAAATCTGTGCAGAGGAGAACGCAGCTCCGCCCTCGCGGTGCTCTCCGGGTCTGTGCTGAGGAGAACGCAACTCC   array('B', [34, 34, 34, 37, 37, 37, 37, 37, 39, 39, 39, 39, 39, 41, 41, 41, 41, 41, 41, 38, 40, 41, 41, 41, 41, 41, 41, 41, 40, 41, 41, 41, 41, 41, 38, 40, 40, 40, 40, 40, 40, 41, 41, 41, 41, 41, 41, 41, 40, 41, 41, 41, 39, 39, 39, 39, 37, 37, 35, 35, 35, 35, 35, 35, 35, 31, 35, 35, 34, 34, 35, 35, 35, 35, 35, 33, 27, 31, 34, 35, 34, 35, 35, 35, 35, 34, 35, 33, 34, 33, 35, 35, 35, 35, 35, 35, 33, 35, 35, 34, 34])        [('NH', 5), ('HI', 2), ('AS', 182), ('nM', 5), ('RG', '1')]\n",
    "C0VHUACXX120727:5:2212:10271:38999      147     15      60480   0       94M7S   15      60457   94      ACCGAAATCTGTGCAGAGGAGAACGCAGCTCCGCCCTCGCGGTGCTCTCCGGGTCTGTGCTGAGGAGAACGCAACTCCGCCGTCGCAAAGGCGCCGCGCCG   array('B', [17, 35, 35, 35, 35, 35, 34, 34, 35, 34, 34, 34, 35, 35, 34, 35, 35, 34, 34, 33, 33, 33, 29, 35, 35, 34, 35, 35, 35, 35, 35, 35, 35, 35, 35, 35, 35, 35, 35, 35, 35, 35, 35, 35, 35, 35, 35, 35, 35, 35, 33, 35, 35, 35, 35, 35, 35, 35, 35, 35, 35, 35, 35, 35, 35, 35, 33, 33, 24, 33, 34, 34, 30, 30, 33, 28, 35, 37, 39, 41, 40, 41, 40, 41, 41, 41, 41, 41, 39, 39, 39, 39, 39, 35, 37, 37, 35, 35, 28, 10, 33])        [('NH', 5), ('HI', 1), ('AS', 183), ('nM', 5), ('RG', '1')]\n",
    "C0VHUACXX120727:5:2212:10271:38999      403     15      60480   0       90M33N11M       15      60457   101     ACCGAAATCTGTGCAGAGGAGAACGCAGCTCCGCCCTCGCGGTGCTCTCCGGGTCTGTGCTGAGGAGAACGCAACTCCGCCGTCGCAAAGGCGCCGCGCCG   array('B', [17, 35, 35, 35, 35, 35, 34, 34, 35, 34, 34, 34, 35, 35, 34, 35, 35, 34, 34, 33, 33, 33, 29, 35, 35, 34, 35, 35, 35, 35, 35, 35, 35, 35, 35, 35, 35, 35, 35, 35, 35, 35, 35, 35, 35, 35, 35, 35, 35, 35, 33, 35, 35, 35, 35, 35, 35, 35, 35, 35, 35, 35, 35, 35, 35, 35, 33, 33, 24, 33, 34, 34, 30, 30, 33, 28, 35, 37, 39, 41, 40, 41, 40, 41, 41, 41, 41, 41, 39, 39, 39, 39, 39, 35, 37, 37, 35, 35, 28, 10, 33])        [('NH', 5), ('HI', 2), ('AS', 182), ('nM', 5), ('RG', '1')]\n",
    "Number of secondary alignments for read C0VHUACXX120727:5:2212:10271:38999:  4.0\n",
    "\n",
    "# Nevertheless if we check \"NH:i\" tag we'll see that there are 5 alignments with this read of which one is primary, \n",
    "# so there are 4 secondary alignments.\n"
   ]
  },
  {
   "cell_type": "markdown",
   "metadata": {},
   "source": [
    "### Problem 5.\n",
    "\n",
    "Find both mates of primary alignment for the read from the Problem 3.<br\\>\n",
    "*Draw the orientation of the read and it’s mate.*\n",
    "\n",
    "Ref.:\n",
    "* https://www.google.rs/url?sa=t&rct=j&q=&esrc=s&source=web&cd=1&cad=rja&uact=8&ved=0ahUKEwi0gprh0uPUAhWF6xoKHWmxBU4QFggkMAA&url=https%3A%2F%2Fwww.illumina.com%2Fdocuments%2Fproducts%2Ftechnotes%2Ftechnote_nextera_matepair_data_processing.pdf&usg=AFQjCNGHrgmccvk92GyNTh5nKzY4h3SICg\n",
    "* https://www.google.rs/url?sa=t&rct=j&q=&esrc=s&source=web&cd=2&cad=rja&uact=8&ved=0ahUKEwi0gprh0uPUAhWF6xoKHWmxBU4QFggmMAE&url=https%3A%2F%2Fsupport.illumina.com%2Fcontent%2Fdam%2Fillumina-support%2Fdocuments%2Fdocumentation%2Fchemistry_documentation%2Fsamplepreps_nextera%2Fnexteramatepair%2Fnextera-mate-pair-reference-guide-15035209-02.pdf&usg=AFQjCNFS4GPEBrD-U3rzIJRnLIy9zV_bjA"
   ]
  },
  {
   "cell_type": "code",
   "execution_count": null,
   "metadata": {
    "collapsed": true
   },
   "outputs": [],
   "source": [
    "# Primary alignment\n",
    "samtools view -F 256 G20479.HCC1143.2.converted.pe.Aligned.out.sorted.bam | grep \"C0VHUACXX120727:5:2212:10271:38999\"\n",
    "C0VHUACXX120727:5:2212:10271:38999\t99\t16\t60458\t0\t101M\t=\t60481\t117\tCTCTGCTCCGCCTTCGCAGTACCACCGAAATCTGTGCAGAGGAGAACGCAGCTCCGCCCTCGCGGTGCTCTCCGGGTCTGTGCTGAGGAGAACGCAACTCC\tCCCFFFFFHHHHHJJJJJJGIJJJJJJJIJJJJJGIIIIIIJJJJJJJIJJJHHHHFFDDDDDDD@DDCCDDDDDB<@CDCDDDDCDBCBDDDDDDBDDCC\tNH:i:5\tHI:i:1\tAS:i:183\tnM:i:5\tRG:Z:1\n",
    "C0VHUACXX120727:5:2212:10271:38999\t147\t16\t60481\t0\t94M7S\t=\t60458\t-117\tACCGAAATCTGTGCAGAGGAGAACGCAGCTCCGCCCTCGCGGTGCTCTCCGGGTCTGTGCTGAGGAGAACGCAACTCCGCCGTCGCAAAGGCGCCGCGCCG\t2DDDDDCCDCCCDDCDDCCBBB>DDCDDDDDDDDDDDDDDDDDDDDDDDDBDDDDDDDDDDDDDDDBB9BCC??B=DFHJIJIJJJJJHHHHHDFFDD=+B\tNH:i:5\tHI:i:1\tAS:i:183\tnM:i:5\tRG:Z:1\n",
    "\n",
    "# And if we check flags for both pair ends of this read\n",
    "samtools flags 99\n",
    "0x63\t99\tPAIRED,PROPER_PAIR,MREVERSE,READ1\n",
    "\n",
    "samtools flags 147\n",
    "0x93\t147\tPAIRED,PROPER_PAIR,REVERSE,READ2\n",
    "\n",
    "# So these are in RF configuration (\"outie\"), i.e. <--R-- 5' 5' --F-->"
   ]
  },
  {
   "cell_type": "markdown",
   "metadata": {},
   "source": [
    "### Problem 6.\n",
    "\n",
    "How many PCR duplicates are there in the range from Problem 1?"
   ]
  },
  {
   "cell_type": "code",
   "execution_count": null,
   "metadata": {
    "collapsed": true
   },
   "outputs": [],
   "source": [
    "!samtools view -f 1024 NA12878_NA12878-Garvan-Vial1_R.realigned.base_recalibrated.merged.bam 20:20327462-20327573 | wc -l\n",
    "\n",
    "# 11"
   ]
  },
  {
   "cell_type": "markdown",
   "metadata": {},
   "source": [
    "### Problem 7.\n",
    "\n",
    "Count the number of PCR duplicates for whole WGS sample? Does it work?"
   ]
  },
  {
   "cell_type": "code",
   "execution_count": null,
   "metadata": {
    "collapsed": true
   },
   "outputs": [],
   "source": [
    "! nohup samtools flagstat NA12878_NA12878-Garvan-Vial1_R.realigned.base_recalibrated.merged.bam > flagstat_res.txt 2> flagstat.stderr &\"\"\"\"\n",
    "# nope..."
   ]
  },
  {
   "cell_type": "markdown",
   "metadata": {},
   "source": [
    "### Problem 8.\n",
    "\n",
    "How many PCR duplicates are there in the whole RNA-seq sample?<br\\>\n",
    "What percentage of reads are PCR duplicates? What does this number tell you?<br\\>\n",
    "How long does the execution of this command last? You can use %%time magic function to do this.<br\\>\n",
    "\n",
    "**Example:**\n",
    "```python\n",
    "%%time\n",
    "import time\n",
    "time.sleep(5)\n",
    "```"
   ]
  },
  {
   "cell_type": "code",
   "execution_count": null,
   "metadata": {
    "collapsed": true
   },
   "outputs": [],
   "source": [
    "import pysam as ps\n",
    "import time\n",
    "fname = '/Users/igorhut/Documents/Onboarding_failed_tasks/Projects/253b1ef0-de03-4a2c-95f4-4d8fc2963aaa/G20479.HCC1143.2.converted.pe.Aligned.out.sorted.bam'\n",
    "bamfile = ps.AlignmentFile(filename = fname, mode = 'rb')\n",
    "\n",
    "counter_reads = 0\n",
    "counter_dup = 0\n",
    "start = time.time()\n",
    "for read in bamfile.fetch():\n",
    "    counter_reads += 1\n",
    "    if read.is_duplicate:\n",
    "        counter_dup += 1\n",
    "end = time.time()\n",
    "\n",
    "print('Counting lasted for total of ', str(end-start), 'seconds.')\n",
    "print('There are ', str(counter_dup), ' PCR duplicates in the whole RNA-seq sample.')\n",
    "print(str(counter_dup/counter_reads),'% of reads are PCR duplcate reads.')\n",
    "bamfile.close()\n",
    "\n",
    "#Counting lasted for total of  3760.9297931194305 seconds.\n",
    "#There are  0  PCR duplicates in the whole RNA-seq sample.\n",
    "#0.0 % of reads are PCR duplcate reads.\n",
    "\n",
    "#just to check \n",
    "!nohup samtools flagstat G20479.HCC1143.2.converted.pe.Aligned.out.sorted.bam &\n",
    "\n",
    "#E::bgzf_read] bgzf_read_block error -1 after 32 of 35 bytes\n",
    "#[bam_flagstat_core] Truncated file? Continue anyway.\n",
    "#9270081 + 0 in total (QC-passed reads + QC-failed reads)\n",
    "#594932 + 0 secondary\n",
    "#0 + 0 supplementary\n",
    "#0 + 0 duplicates\n",
    "#9270081 + 0 mapped (100.00% : N/A)\n",
    "#8675149 + 0 paired in sequencing\n",
    "#4337567 + 0 read1\n",
    "#4337582 + 0 read2\n",
    "#8675149 + 0 properly paired (100.00% : N/A)\n",
    "#8675149 + 0 with itself and mate mapped\n",
    "#0 + 0 singletons (0.00% : N/A)\n",
    "#0 + 0 with mate mapped to a different chr\n",
    "#0 + 0 with mate mapped to a different chr (mapQ>=5)\n"
   ]
  },
  {
   "cell_type": "markdown",
   "metadata": {},
   "source": [
    "### Problem 9.\n",
    "\n",
    "Run **Picard MarkDuplicates** tool in your project on the platform and do the analysis from the previous problem again (with new BAM file). What is the new number for the percentage of PCR duplicates?"
   ]
  },
  {
   "cell_type": "code",
   "execution_count": null,
   "metadata": {
    "collapsed": true
   },
   "outputs": [],
   "source": [
    "# Checking the G20479.HCC1143.2.converted.pe.Aligned.out.sorted.metrics file --> 23.24% of duplicates\n",
    "\n",
    "!nohup samtools flagstat G20479.HCC1143.2.converted.pe.Aligned.out.sorted.deduped.bam &\n",
    "\"\"\"\"\n",
    "samtools flagstat G20479.HCC1143.2.converted.pe.Aligned.out.sorted.deduped.bam\n",
    "154528688 + 0 in total (QC-passed reads + QC-failed reads)\n",
    "6015000 + 0 secondary\n",
    "0 + 0 supplementary\n",
    "34515194 + 0 duplicates\n",
    "154528688 + 0 mapped (100.00% : N/A)\n",
    "148513688 + 0 paired in sequencing\n",
    "74256844 + 0 read1\n",
    "74256844 + 0 read2\n",
    "148513688 + 0 properly paired (100.00% : N/A)\n",
    "148513688 + 0 with itself and mate mapped\n",
    "0 + 0 singletons (0.00% : N/A)\n",
    "0 + 0 with mate mapped to a different chr\n",
    "0 + 0 with mate mapped to a different chr (mapQ>=5)\n",
    "\"\"\"\"\n",
    "\n",
    "#or with pysam\n",
    "\n",
    "import pysam as ps\n",
    "import time\n",
    "fname = '/Users/igorhut/Documents/Onboarding_failed_tasks/Projects/253b1ef0-de03-4a2c-95f4-4d8fc2963aaa/G20479.HCC1143.2.converted.pe.Aligned.out.sorted.deduped.bam'\n",
    "bamfile = ps.AlignmentFile(filename = fname, mode = 'rb')\n",
    "\n",
    "counter_reads = 0\n",
    "counter_dup = 0\n",
    "start = time.time()\n",
    "for read in bamfile.fetch():\n",
    "    counter_reads += 1\n",
    "    if read.is_duplicate:\n",
    "        counter_dup += 1\n",
    "end = time.time()\n",
    "\n",
    "print('Counting lasted for total of ', str(end-start), 'seconds.')\n",
    "print('There are ', str(counter_dup), ' PCR duplicates in the whole RNA-seq sample.')\n",
    "print(str(counter_dup/counter_reads),'% of reads are PCR duplcate reads.')\n",
    "bamfile.close()\n",
    "\n",
    "#Counting lasted for total of  2711.204339027405 seconds.\n",
    "#There are  34515194  PCR duplicates in the whole RNA-seq sample.\n",
    "#0.22335784019599 % of reads are PCR duplcate reads. --> check where this difference comes from"
   ]
  },
  {
   "cell_type": "markdown",
   "metadata": {},
   "source": [
    "### Problem 10.\n",
    "\n",
    "How many soft clipped reads are there in the range from Problem 1?<br\\>\n",
    "(*What is soft clipping and how’s it different comparing to hard clipping?* - don't need to answer this)"
   ]
  },
  {
   "cell_type": "code",
   "execution_count": null,
   "metadata": {
    "collapsed": true
   },
   "outputs": [],
   "source": [
    "fname = '/Users/igorhut/Documents/Onboarding_failed_tasks/Projects/253b1ef0-de03-4a2c-95f4-4d8fc2963aaa/NA12878_NA12878-Garvan-Vial1_R.realigned.base_recalibrated.merged.bam'\n",
    "bamfile = ps.AlignmentFile(filename = fname, mode = 'rb')\n",
    "counter = 0\n",
    "for read in bamfile.fetch('20', start = 20327462, end = 20327573):\n",
    "    if 'S' in read.cigarstring:\n",
    "        counter += 1\n",
    "        print(read.cigarstring)\n",
    "\n",
    "print('There are ', str(counter), 'soft clipped reads in this region.')\n",
    "\n",
    "bamfile.close()\n",
    "\n",
    "#148M2S\n",
    "#5S59M86S\n",
    "#There are  2 soft clipped reads in this region."
   ]
  },
  {
   "cell_type": "markdown",
   "metadata": {},
   "source": [
    "### Problem 11.\n",
    "\n",
    "Iterate through all reads of RNA-seq BAM file in order to find a read which spans exons.<br\\>\n",
    "What is the length of the intervening intron?"
   ]
  },
  {
   "cell_type": "code",
   "execution_count": null,
   "metadata": {
    "collapsed": true
   },
   "outputs": [],
   "source": [
    "import pysam as ps\n",
    "fname = '/Users/igorhut/Documents/Onboarding_failed_tasks/Projects/253b1ef0-de03-4a2c-95f4-4d8fc2963aaa/G20479.HCC1143.2.converted.pe.Aligned.out.sorted.bam'\n",
    "bamfile = ps.AlignmentFile(filename = fname, mode = 'rb')\n",
    "\n",
    "for read in bamfile.fetch():\n",
    "    if 'N' in read.cigarstring:\n",
    "        print(read)\n",
    "        print(read.cigarstring)\n",
    "        break\n",
    "bamfile.close()\n",
    "\n",
    "# C0VHUACXX120727:7:1306:16072:8082       355     0       11585   0       86M338N15M      0       12128   101     GTACTGTTCTGTATCCCACCAGCAATGTCTAGGAATACCTGTTTCTCCACAAAGTGTTTACTTTTGGATTTTTGCCAGTCTAACAGGTGTCTGACTTCCAG   array('B', [34, 31, 31, 37, 37, 37, 37, 37, 39, 39, 39, 39, 39, 41, 41, 41, 41, 41, 41, 41, 41, 41, 41, 41, 41, 40, 41, 40, 41, 41, 40, 41, 41, 41, 41, 41, 41, 41, 41, 41, 41, 40, 41, 41, 41, 41, 41, 41, 41, 41, 41, 41, 41, 41, 37, 39, 38, 40, 40, 41, 41, 41, 41, 41, 41, 41, 40, 40, 41, 41, 41, 41, 41, 41, 41, 39, 39, 39, 39, 39, 39, 37, 37, 37, 37, 37, 35, 34, 36, 34, 36, 36, 35, 34, 35, 35, 35, 35, 35, 35, 34])        [('NH', 5), ('HI', 3), ('AS', 196), ('nM', 2), ('RG', '1')]\n",
    "# 86M338N15M\n",
    "\n",
    "# So the length of intervening intron is 338 bases"
   ]
  },
  {
   "cell_type": "markdown",
   "metadata": {},
   "source": [
    "### Problem 12.\n",
    "Iterate through all reads of RNA-seq BAM file in order to find a read which spans\n",
    "more than 2 exons.<br\\> What are the lengths of the introns? Can you tell what’s the\n",
    "length of each exon?"
   ]
  },
  {
   "cell_type": "code",
   "execution_count": null,
   "metadata": {
    "collapsed": true
   },
   "outputs": [],
   "source": [
    "\n",
    "import pysam as ps\n",
    "fname = '/Users/igorhut/Documents/Onboarding_failed_tasks/Projects/253b1ef0-de03-4a2c-95f4-4d8fc2963aaa/G20479.HCC1143.2.converted.pe.Aligned.out.sorted.bam'\n",
    "bamfile = ps.AlignmentFile(filename = fname, mode = 'rb')\n",
    "\n",
    "for read in bamfile.fetch():\n",
    "    if read.cigarstring.count('N') >= 2:\n",
    "        print(read.query_name, ': ', read.cigarstring)\n",
    "        break\n",
    "bamfile.close() \n",
    "\n",
    "#C0UNPACXX120727:4:2305:7334:90577 :  78M191N18M757N5M\n",
    "\n",
    "# Lengths of introns are 191b and 757b don't know about lengths of exons"
   ]
  }
 ],
 "metadata": {
  "anaconda-cloud": {},
  "kernelspec": {
   "display_name": "Python 3",
   "language": "python",
   "name": "python3"
  },
  "language_info": {
   "codemirror_mode": {
    "name": "ipython",
    "version": 3
   },
   "file_extension": ".py",
   "mimetype": "text/x-python",
   "name": "python",
   "nbconvert_exporter": "python",
   "pygments_lexer": "ipython3",
   "version": "3.6.0"
  }
 },
 "nbformat": 4,
 "nbformat_minor": 0
}
