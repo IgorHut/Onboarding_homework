{
 "cells": [
  {
   "cell_type": "markdown",
   "metadata": {},
   "source": [
    "## `collections.Counter` \n",
    "\n",
    "*find the most up-to-date version of this doc [here](https://github.com/IgorHut/Onboarding_homework/blob/master/%20%20%20%20%20Python%20collections%20-%20Counter%20objects.ipynb)*\n",
    "\n",
    "\n",
    "- `collections` - Python's module which implements specialized container datatypes providing alternatives to general purpose built-in containers like `dict`, `list`, `set`, and `tuple`.\n",
    "- `namedtuple()` - factory function for creating tuple subclasses with named fields\n",
    "- `deque` - list-like container with fast appends and pops on either end\n",
    "- `Counter` - dict subclass for counting hashable objects\n",
    "- `OrderedDict` - dict subclass that remembers the order entries were added\n",
    "- `defaultdict` - dict subclass that calls a factory function to supply missing values\n",
    "- More info [here](https://docs.python.org/2/library/collections.html#module-collections)\n",
    "- **We'll just check how `counter` objects behave, and in which situations are they considered to be preferable choice over other data structures.** \n"
   ]
  },
  {
   "cell_type": "markdown",
   "metadata": {},
   "source": [
    "#### What is a `counter`?\n",
    "\n",
    "- As already told `counter` is basicaly a  `dict` subclass for counting hashable objects. \n",
    "- A container that keeps track of how many times equivalent values are added.\n",
    "- Similar to *bags* or *multisets* in other languages.\n",
    "- Counts are allowed to be any integer value including zero or negative counts. (*Nevertheless, the `Counter` class itself is a dictionary subclass with no restrictions on its keys and values. The values are intended to be numbers representing counts, but you could store anything in the value field.*). "
   ]
  },
  {
   "cell_type": "markdown",
   "metadata": {},
   "source": [
    "**In case you wonder what is a hashable object, here is a brief exerpt from the [Python glossary](https://docs.python.org/2/glossary.html):**\n",
    "\n",
    "*\"An object is hashable if it has a hash value which never changes during its lifetime (it needs a __hash__() method), and can be compared to other objects (it needs an __eq__() or __cmp__() method). Hashable objects which compare equal must have the same hash value.*\n",
    "\n",
    "*Hashability makes an object usable as a dictionary key and a set member, because these data structures use the hash value internally.*\n",
    "\n",
    "*All of Python’s immutable built-in objects are hashable, while no mutable containers (such as lists or dictionaries) are. Objects which are instances of user-defined classes are hashable by default; they all compare unequal, and their hash value is their id().\"*\n",
    "    "
   ]
  },
  {
   "cell_type": "markdown",
   "metadata": {},
   "source": [
    "### Initalization\n",
    "\n",
    "`Counter` supports three basic forms of initialization. Its constructor can be called with a sequence of items, a dictionary containing keys and counts, or using keyword arguments mapping string names to counts.\n"
   ]
  },
  {
   "cell_type": "code",
   "execution_count": 24,
   "metadata": {
    "collapsed": false
   },
   "outputs": [
    {
     "name": "stdout",
     "output_type": "stream",
     "text": [
      "Counter({'b': 3, 'a': 2, 'c': 1})\n",
      "Counter({'a': 5, 'b': 3, 'c': 1})\n",
      "Counter({'b': 3, 'a': 2, 'c': 1})\n"
     ]
    }
   ],
   "source": [
    "import collections\n",
    "\n",
    "print(collections.Counter(['a', 'b', 'c', 'a', 'b', 'b']))\n",
    "print(collections.Counter({'a':5, 'b':3, 'c':1}))\n",
    "print(collections.Counter(a=2, b=3, c=1))"
   ]
  },
  {
   "cell_type": "markdown",
   "metadata": {},
   "source": [
    "As you can see all three methods yield the same result!"
   ]
  },
  {
   "cell_type": "code",
   "execution_count": 3,
   "metadata": {
    "collapsed": false
   },
   "outputs": [
    {
     "name": "stdout",
     "output_type": "stream",
     "text": [
      "Counter({'b': 3, 'a': 2, 'c': 1})\n"
     ]
    }
   ],
   "source": [
    "# and just for the fun's sake let's see one more way to form a Counter from a string:\n",
    "print(collections.Counter('abcabb'))"
   ]
  },
  {
   "cell_type": "markdown",
   "metadata": {},
   "source": [
    "An empty `Counter` can be constructed with no arguments and populated via the `update()` method."
   ]
  },
  {
   "cell_type": "code",
   "execution_count": 2,
   "metadata": {
    "collapsed": false
   },
   "outputs": [
    {
     "name": "stdout",
     "output_type": "stream",
     "text": [
      "Initial : Counter()\n",
      "Sequence: Counter({'a': 3, 'b': 2, 'c': 1, 'd': 1})\n",
      "Dict: Counter({'d': 6, 'a': 4, 'b': 2, 'c': 1})\n"
     ]
    }
   ],
   "source": [
    "import collections\n",
    "\n",
    "c = collections.Counter()\n",
    "print('Initial :', c)\n",
    "\n",
    "c.update('abcdaab')\n",
    "print('Sequence:', c)\n",
    "\n",
    "c.update({'a':1, 'd':5})\n",
    "print('Dict:', c) "
   ]
  },
  {
   "cell_type": "markdown",
   "metadata": {},
   "source": [
    "**Notice how count values get increased based on the new data, rather than replaced.** \n",
    "In this example, the count for `a` goes from 3 to 4."
   ]
  },
  {
   "cell_type": "markdown",
   "metadata": {},
   "source": [
    "Let's check how dict comprehension works with counters:"
   ]
  },
  {
   "cell_type": "code",
   "execution_count": 5,
   "metadata": {
    "collapsed": false
   },
   "outputs": [
    {
     "name": "stdout",
     "output_type": "stream",
     "text": [
      "Counter({'E': 4, 'D': 3, 'C': 2, 'B': 1, 'A': 0})\n",
      "Counter({(3, 3): 6, (2, 3): 5, (3, 2): 5, (1, 3): 4, (2, 2): 4, (3, 1): 4, (0, 3): 3, (1, 2): 3, (2, 1): 3, (3, 0): 3, (0, 2): 2, (1, 1): 2, (2, 0): 2, (0, 1): 1, (1, 0): 1, (0, 0): 0})\n"
     ]
    }
   ],
   "source": [
    "print(collections.Counter({chr(65+i) : i for i in range(5)}))\n",
    "\n",
    "#or use tuples as keys:\n",
    "print(collections.Counter({(k, v): k+v for k in range(4) for v in range(4)}))"
   ]
  },
  {
   "cell_type": "markdown",
   "metadata": {},
   "source": [
    "So there you go, yet \"another way\" to construct a `Counter`."
   ]
  },
  {
   "cell_type": "markdown",
   "metadata": {},
   "source": [
    "### Accessing Counts"
   ]
  },
  {
   "cell_type": "markdown",
   "metadata": {},
   "source": [
    "Once a `Counter` is populated, its values can be retrieved similary to a `dictionry`."
   ]
  },
  {
   "cell_type": "code",
   "execution_count": 28,
   "metadata": {
    "collapsed": false
   },
   "outputs": [
    {
     "name": "stdout",
     "output_type": "stream",
     "text": [
      "a : 3\n",
      "b : 2\n",
      "c : 1\n",
      "d : 1\n",
      "e : 0\n"
     ]
    }
   ],
   "source": [
    "import collections\n",
    "\n",
    "c = collections.Counter('abcdaab')\n",
    "\n",
    "for letter in 'abcde':\n",
    "    print('%s : %d' % (letter, c[letter]))"
   ]
  },
  {
   "cell_type": "markdown",
   "metadata": {},
   "source": [
    "**Important:** Counter does not raise *`KeyError`* for unknown items. If a value has not been seen in the input (as with `e` in this example), its count is 0."
   ]
  },
  {
   "cell_type": "markdown",
   "metadata": {},
   "source": [
    "One more thing, setting a count to zero does not remove an element from a counter. Use **`del`** to remove it entirely:"
   ]
  },
  {
   "cell_type": "code",
   "execution_count": 11,
   "metadata": {
    "collapsed": false
   },
   "outputs": [
    {
     "name": "stdout",
     "output_type": "stream",
     "text": [
      "Counter({'b': 2, 'c': 1, 'd': 1, 'a': 0})\n",
      "Counter({'b': 2, 'c': 1, 'd': 1})\n"
     ]
    }
   ],
   "source": [
    "c['a'] = 0\n",
    "print(c)\n",
    "\n",
    "del c['a']\n",
    "print(c)"
   ]
  },
  {
   "cell_type": "markdown",
   "metadata": {},
   "source": [
    "There are three more methods specific to `Count` objects (i.e. beyond those available for all dictionaries), namely **`elements()`**, **`most_common([n])`**, and **`subtract([iterable-or-mapping])`**."
   ]
  },
  {
   "cell_type": "markdown",
   "metadata": {},
   "source": [
    "The **`elements()`** method returns an iterator that produces all of the items known to the `Counter`. The order of elements is not guaranteed, and items with counts less than one are not included."
   ]
  },
  {
   "cell_type": "code",
   "execution_count": 13,
   "metadata": {
    "collapsed": false
   },
   "outputs": [
    {
     "name": "stdout",
     "output_type": "stream",
     "text": [
      "Counter({'a': 3, 'e': 2, 's': 2, 't': 2, 'D': 1, 'j': 1, 'b': 1, 'r': 1, 'i': 1, 'm': 1, 'z': 0})\n",
      "['D', 'j', 'e', 'e', 's', 's', 'b', 'r', 'a', 'a', 'a', 't', 't', 'i', 'm']\n"
     ]
    }
   ],
   "source": [
    "import collections\n",
    "\n",
    "c = collections.Counter('Djesbratestaima')\n",
    "c['z'] = 0\n",
    "print(c)\n",
    "print(list(c.elements()))"
   ]
  },
  {
   "cell_type": "markdown",
   "metadata": {},
   "source": [
    "Use **`most_common([n])`** to produce a sequence of the **n** most frequently encountered input values and their respective counts, from the most common to the least. Leaving out the argument to **`most_common()`** produces a list of all the items, in order of frequency. The following example counts the letters appearing in all of the words in the system dictionary to produce a frequency distribution, then prints the three most common letters."
   ]
  },
  {
   "cell_type": "code",
   "execution_count": 5,
   "metadata": {
    "collapsed": false
   },
   "outputs": [
    {
     "name": "stdout",
     "output_type": "stream",
     "text": [
      "Most common:\n",
      "e:  235331\n",
      "i:  201032\n",
      "a:  199554\n"
     ]
    }
   ],
   "source": [
    "import collections\n",
    "\n",
    "c = collections.Counter()\n",
    "with open('/usr/share/dict/words', 'r') as f:\n",
    "    for line in f:\n",
    "        c.update(line.rstrip().lower())\n",
    "\n",
    "print('Most common:')\n",
    "for letter, count in c.most_common(3):\n",
    "    print('%s: %7d' % (letter, count))"
   ]
  },
  {
   "cell_type": "markdown",
   "metadata": {},
   "source": [
    "Since we've already generated this handy `Counter` let's make a bar plot based on it:"
   ]
  },
  {
   "cell_type": "code",
   "execution_count": 8,
   "metadata": {
    "collapsed": false
   },
   "outputs": [
    {
     "data": {
      "image/png": "[encoded data removed]",
      "text/plain": [
       "<matplotlib.figure.Figure at 0x110f7e9e8>"
      ]
     },
     "metadata": {},
     "output_type": "display_data"
    }
   ],
   "source": [
    "import numpy as np\n",
    "import matplotlib.pyplot as plt\n",
    "\n",
    "\n",
    "labels, values = zip(*c.items())\n",
    "\n",
    "indexes = np.arange(len(labels))\n",
    "\n",
    "plt.bar(indexes, values)\n",
    "plt.xticks(indexes, labels)\n",
    "plt.show()"
   ]
  },
  {
   "cell_type": "markdown",
   "metadata": {},
   "source": [
    "With **`subtract([iterable-or-mapping])`** elements get subtracted from an iterable or from another mapping (or `counter`). Like `dict.update()` but subtracts counts instead of replacing them. Both inputs and outputs may be zero or negative."
   ]
  },
  {
   "cell_type": "code",
   "execution_count": 30,
   "metadata": {
    "collapsed": false
   },
   "outputs": [
    {
     "name": "stdout",
     "output_type": "stream",
     "text": [
      "Counter({'a': 5, 'b': 0, 'c': -3, 'd': -6, 'y': -7})\n"
     ]
    }
   ],
   "source": [
    "c = collections.Counter(a=4, b=2, c=0, d=-2)\n",
    "d = collections.Counter(a=-1, b=2, c=3, d=4,y=7)\n",
    "c.subtract(d)\n",
    "print(c)"
   ]
  },
  {
   "cell_type": "markdown",
   "metadata": {},
   "source": [
    "The usual dictionary methods are available for `Counter` objects except for two:\n",
    "\n",
    "- **`fromkeys()`**:\n",
    "This class method is not implemented for `Counter` objects.\n",
    "\n",
    "- **`update()`**:\n",
    "Like `dict.update()` but adds counts instead of replacing them. "
   ]
  },
  {
   "cell_type": "markdown",
   "metadata": {},
   "source": [
    "### Arithmetic"
   ]
  },
  {
   "cell_type": "markdown",
   "metadata": {},
   "source": [
    "`Counter` instances support arithmetic and set operations for aggregating results."
   ]
  },
  {
   "cell_type": "code",
   "execution_count": 32,
   "metadata": {
    "collapsed": false
   },
   "outputs": [
    {
     "name": "stdout",
     "output_type": "stream",
     "text": [
      "C1: Counter({'b': 3, 'a': 2, 'c': 1})\n",
      "C2: Counter({'a': 2, 'l': 1, 'p': 1, 'h': 1, 'b': 1, 'e': 1, 't': 1})\n",
      "\n",
      "Combined counts:\n",
      "Counter({'a': 4, 'b': 4, 'c': 1, 'l': 1, 'p': 1, 'h': 1, 'e': 1, 't': 1})\n",
      "\n",
      "Subtraction:\n",
      "Counter({'b': 2, 'c': 1})\n",
      "\n",
      "Intersection (taking positive minimums):\n",
      "Counter({'a': 2, 'b': 1})\n",
      "\n",
      "Union (taking maximums):\n",
      "Counter({'b': 3, 'a': 2, 'c': 1, 'l': 1, 'p': 1, 'h': 1, 'e': 1, 't': 1})\n"
     ]
    }
   ],
   "source": [
    "import collections\n",
    "\n",
    "c1 = collections.Counter(['a', 'b', 'c', 'a', 'b', 'b'])\n",
    "c2 = collections.Counter('alphabet')\n",
    "\n",
    "print('C1:', c1)\n",
    "print('C2:', c2)\n",
    "\n",
    "print('\\nCombined counts:')\n",
    "print(c1 + c2)\n",
    "\n",
    "print('\\nSubtraction:')\n",
    "print(c1 - c2)\n",
    "\n",
    "print('\\nIntersection (taking positive minimums):')\n",
    "print(c1 & c2)\n",
    "\n",
    "print('\\nUnion (taking maximums):')\n",
    "print(c1 | c2)"
   ]
  },
  {
   "cell_type": "markdown",
   "metadata": {},
   "source": [
    "Each time a new `Counter` is produced through an operation, any items with zero or negative counts are discarded. The count for **`a`** is the same in **`c1`** and **`c2`**, so subtraction leaves it at zero."
   ]
  },
  {
   "cell_type": "markdown",
   "metadata": {},
   "source": [
    "### Few more bionformatic examples and a bit of benchmarking"
   ]
  },
  {
   "cell_type": "markdown",
   "metadata": {},
   "source": [
    "***Here is a problem, that you all probably know well. We'll provide different solutions and check their performance based on utilized data structures.***\n",
    "\n",
    "#### Problem 1.\n",
    "Given [Danio_rerio.Zv9.66.dna.chromosome.12.fa](https://drive.google.com/a/sbgenomics.com/file/d/0B5Jz9JOBzqm-enB5QklLR1VELUU/view?usp=sharing) file determine the following:\n",
    "* Number of bases in a genome\n",
    "\n",
    "**Try to code this not using python modules other then built-in ones!**"
   ]
  },
  {
   "cell_type": "code",
   "execution_count": 19,
   "metadata": {
    "collapsed": false
   },
   "outputs": [
    {
     "name": "stdout",
     "output_type": "stream",
     "text": [
      "With string it takes  0.43718695640563965  seconds to read in the genome.\n",
      "{'A': 16076836, 'G': 9193643, 'T': 16141588, 'C': 9148441, 'N': 136770}\n",
      "So using a dictionary for counting bases, in a for loop takes  11.484874963760376  seconds.\n",
      "\n",
      "Using a Counter for counting bases takes  3.4708337783813477  seconds.\n"
     ]
    },
    {
     "data": {
      "text/plain": [
       "Counter({'A': 16076836,\n",
       "         'C': 9148441,\n",
       "         'G': 9193643,\n",
       "         'N': 136770,\n",
       "         'T': 16141588})"
      ]
     },
     "execution_count": 19,
     "metadata": {},
     "output_type": "execute_result"
    }
   ],
   "source": [
    "import collections\n",
    "import time\n",
    "\n",
    "filename = '/Users/igorhut/Documents/RNA-Seq/genome/Danio_rerio.Zv9.66.dna.chromosome.12.fa'\n",
    "\n",
    "# Read in the whole genome into a string. Check how long it takes.\n",
    "def readGenome(filename):\n",
    "    genome = ''\n",
    "    with open(filename, 'r') as f:\n",
    "        for line in f:\n",
    "            # ignore header line with genome information\n",
    "            if not line[0] == '>':\n",
    "                genome += line.rstrip()\n",
    "    return genome\n",
    "\n",
    "start = time.time()\n",
    "genome = readGenome(filename)\n",
    "end = time.time()\n",
    "\n",
    "print(\"With string it takes \", str(end-start), ' seconds to read in the genome.')\n",
    "\n",
    "# Now count the bases using dictionary\n",
    "start1=time.time()\n",
    "dict_count = {}\n",
    "for base in genome:\n",
    "    if base in dict_count:\n",
    "        dict_count[base] += 1\n",
    "    else:\n",
    "        dict_count[base] = 1\n",
    "end1=time.time()\n",
    "print(dict_count)\n",
    "print('So using a dictionary for counting bases, in a for loop takes ', str(end1-start1), ' seconds.\\n')\n",
    "\n",
    "# And now count the bases using collections.Counter\n",
    "start2=time.time()\n",
    "all_bases = collections.Counter(genome)\n",
    "end2=time.time()\n",
    "\n",
    "print('Using a Counter for counting bases takes ', str(end2-start2), ' seconds.')\n",
    "all_bases  \n"
   ]
  },
  {
   "cell_type": "code",
   "execution_count": 20,
   "metadata": {
    "collapsed": false
   },
   "outputs": [
    {
     "name": "stdout",
     "output_type": "stream",
     "text": [
      "With Counter it takes  5.963536024093628  seconds to read in the genome and count all the bases.\n"
     ]
    },
    {
     "data": {
      "text/plain": [
       "Counter({'A': 16076836,\n",
       "         'C': 9148441,\n",
       "         'G': 9193643,\n",
       "         'N': 136770,\n",
       "         'T': 16141588})"
      ]
     },
     "execution_count": 20,
     "metadata": {},
     "output_type": "execute_result"
    }
   ],
   "source": [
    "# Read in the whole genome into a Counter. Check how long it takes. \n",
    "\n",
    "#Function readGenomeCounter(filename) - takes a FASTA file and fills in the Counter object\n",
    "def readGenomeCounter(filename):\n",
    "    genome = collections.Counter()\n",
    "    with open(filename, 'r') as f:\n",
    "        for line in f:\n",
    "            # ignore header line with genome information\n",
    "            if not line[0] == '>':\n",
    "                genome.update(line.rstrip())\n",
    "    return genome\n",
    "\n",
    "# Make a all_bases Counter object and see how long it takes.\n",
    "start3=time.time()\n",
    "all_bases = readGenomeCounter(filename)\n",
    "end3=time.time()\n",
    "\n",
    "print(\"With Counter it takes \", str(end3-start3), ' seconds to read in the genome and count all the bases.')\n",
    "all_bases\n"
   ]
  },
  {
   "cell_type": "code",
   "execution_count": 21,
   "metadata": {
    "collapsed": false
   },
   "outputs": [
    {
     "name": "stdout",
     "output_type": "stream",
     "text": [
      "Finally reading the sequence into a string and counting bases with dictionary in a for loop takes 11.922061920166016  seconds vs doing everything in one step with collection.Counter, which takes  5.963536024093628  seconds to read in the genome and count all the bases.\n"
     ]
    }
   ],
   "source": [
    "print(\"Finally reading the sequence into a string and counting bases with dictionary in a for loop takes\", \n",
    "     str(end-start + end1-start1), ' seconds vs doing everything in one step with collection.Counter, which takes ',\n",
    "     str(end3-start3), ' seconds to read in the genome and count all the bases.')"
   ]
  },
  {
   "cell_type": "markdown",
   "metadata": {},
   "source": [
    "## As you can see the advantage of using collection. Counter is clear in this case, so my children go into the world and use your new knowledge wisely!"
   ]
  },
  {
   "cell_type": "code",
   "execution_count": null,
   "metadata": {
    "collapsed": true
   },
   "outputs": [],
   "source": []
  }
 ],
 "metadata": {
  "kernelspec": {
   "display_name": "Python 3",
   "language": "python",
   "name": "python3"
  },
  "language_info": {
   "codemirror_mode": {
    "name": "ipython",
    "version": 3
   },
   "file_extension": ".py",
   "mimetype": "text/x-python",
   "name": "python",
   "nbconvert_exporter": "python",
   "pygments_lexer": "ipython3",
   "version": "3.6.0"
  }
 },
 "nbformat": 4,
 "nbformat_minor": 2
}
